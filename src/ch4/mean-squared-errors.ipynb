{
 "cells": [
  {
   "cell_type": "code",
   "execution_count": null,
   "metadata": {},
   "outputs": [],
   "source": [
    "import numpy as np\n",
    "import matplotlib.pyplot as plt\n",
    "from data import getData "
   ]
  },
  {
   "cell_type": "code",
   "execution_count": null,
   "metadata": {},
   "outputs": [],
   "source": [
    "y, x, _ = getData()\n",
    "\n",
    "plt.scatter(x, y)\n",
    "plt.show()"
   ]
  },
  {
   "cell_type": "code",
   "execution_count": null,
   "metadata": {},
   "outputs": [],
   "source": [
    "a = 0\n",
    "b = 0\n",
    "\n",
    "lr = 0.03\n",
    "\n",
    "epochs = 2001\n",
    "\n",
    "n = len(x)\n",
    "\n",
    "for i in range(epochs):\n",
    "  y_pred = a * x + b\n",
    "  error = y - y_pred\n",
    "\n",
    "  a_diff = 2 / n * sum(-x * error)\n",
    "  b_diff = 2 / n * sum(-error)\n",
    "\n",
    "  a -= lr * a_diff\n",
    "  b -= lr * b_diff\n",
    "\n",
    "  if i % 100 == 0:\n",
    "    print(\"epoch=%.f, 기울기=%.04f, 절편=%.04f\" % (i, a, b))\n",
    "\n",
    "y_pred = a * x + b\n",
    "\n",
    "plt.scatter(x, y)\n",
    "plt.plot(x, y_pred, \"r\")\n",
    "plt.show()\n"
   ]
  },
  {
   "cell_type": "code",
   "execution_count": null,
   "metadata": {},
   "outputs": [],
   "source": []
  }
 ],
 "metadata": {
  "kernelspec": {
   "display_name": "Python 3",
   "language": "python",
   "name": "python3"
  },
  "language_info": {
   "codemirror_mode": {
    "name": "ipython",
    "version": 3
   },
   "file_extension": ".py",
   "mimetype": "text/x-python",
   "name": "python",
   "nbconvert_exporter": "python",
   "pygments_lexer": "ipython3",
   "version": "3.8.10"
  }
 },
 "nbformat": 4,
 "nbformat_minor": 2
}
